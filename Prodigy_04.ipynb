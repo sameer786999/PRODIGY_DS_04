{
  "nbformat": 4,
  "nbformat_minor": 0,
  "metadata": {
    "colab": {
      "provenance": [],
      "authorship_tag": "ABX9TyO7GXOHavlGtf9u/LjPLPnK",
      "include_colab_link": true
    },
    "kernelspec": {
      "name": "python3",
      "display_name": "Python 3"
    },
    "language_info": {
      "name": "python"
    }
  },
  "cells": [
    {
      "cell_type": "markdown",
      "metadata": {
        "id": "view-in-github",
        "colab_type": "text"
      },
      "source": [
        "<a href=\"https://colab.research.google.com/github/sameer786999/PRODIGY_DS_04/blob/main/Prodigy_04.ipynb\" target=\"_parent\"><img src=\"https://colab.research.google.com/assets/colab-badge.svg\" alt=\"Open In Colab\"/></a>"
      ]
    },
    {
      "cell_type": "code",
      "execution_count": null,
      "metadata": {
        "id": "cNOr-mNmZd3E"
      },
      "outputs": [],
      "source": [
        "import pandas as pd\n",
        "import numpy as np\n",
        "import matplotlib.pyplot as plt\n",
        "import seaborn as sns\n",
        "import re\n",
        "import string\n",
        "import nltk\n",
        "import warnings\n",
        "%matplotlib inline\n",
        "\n",
        "warnings.filterwarnings('ignore')"
      ]
    },
    {
      "cell_type": "code",
      "source": [
        "df=pd.read_csv(\"twitter_validation.csv\")\n",
        "df.head()"
      ],
      "metadata": {
        "colab": {
          "base_uri": "https://localhost:8080/",
          "height": 206
        },
        "id": "ionPOpdJauda",
        "outputId": "f3b70a83-ca4b-4f5c-b6ee-3d35a6120892"
      },
      "execution_count": null,
      "outputs": [
        {
          "output_type": "execute_result",
          "data": {
            "text/plain": [
              "   TweetId Companyname   Sentiment  \\\n",
              "0     3364    Facebook  Irrelevant   \n",
              "1      352      Amazon     Neutral   \n",
              "2     8312   Microsoft    Negative   \n",
              "3     4371       CS-GO    Negative   \n",
              "4     4433      Google     Neutral   \n",
              "\n",
              "                                               Tweet  \n",
              "0  I mentioned on Facebook that I was struggling ...  \n",
              "1  BBC News - Amazon boss Jeff Bezos rejects clai...  \n",
              "2  @Microsoft Why do I pay for WORD when it funct...  \n",
              "3  CSGO matchmaking is so full of closet hacking,...  \n",
              "4  Now the President is slapping Americans in the...  "
            ],
            "text/html": [
              "\n",
              "  <div id=\"df-01b9ad1e-a2b9-442c-b73e-912de2ae7d6d\" class=\"colab-df-container\">\n",
              "    <div>\n",
              "<style scoped>\n",
              "    .dataframe tbody tr th:only-of-type {\n",
              "        vertical-align: middle;\n",
              "    }\n",
              "\n",
              "    .dataframe tbody tr th {\n",
              "        vertical-align: top;\n",
              "    }\n",
              "\n",
              "    .dataframe thead th {\n",
              "        text-align: right;\n",
              "    }\n",
              "</style>\n",
              "<table border=\"1\" class=\"dataframe\">\n",
              "  <thead>\n",
              "    <tr style=\"text-align: right;\">\n",
              "      <th></th>\n",
              "      <th>TweetId</th>\n",
              "      <th>Companyname</th>\n",
              "      <th>Sentiment</th>\n",
              "      <th>Tweet</th>\n",
              "    </tr>\n",
              "  </thead>\n",
              "  <tbody>\n",
              "    <tr>\n",
              "      <th>0</th>\n",
              "      <td>3364</td>\n",
              "      <td>Facebook</td>\n",
              "      <td>Irrelevant</td>\n",
              "      <td>I mentioned on Facebook that I was struggling ...</td>\n",
              "    </tr>\n",
              "    <tr>\n",
              "      <th>1</th>\n",
              "      <td>352</td>\n",
              "      <td>Amazon</td>\n",
              "      <td>Neutral</td>\n",
              "      <td>BBC News - Amazon boss Jeff Bezos rejects clai...</td>\n",
              "    </tr>\n",
              "    <tr>\n",
              "      <th>2</th>\n",
              "      <td>8312</td>\n",
              "      <td>Microsoft</td>\n",
              "      <td>Negative</td>\n",
              "      <td>@Microsoft Why do I pay for WORD when it funct...</td>\n",
              "    </tr>\n",
              "    <tr>\n",
              "      <th>3</th>\n",
              "      <td>4371</td>\n",
              "      <td>CS-GO</td>\n",
              "      <td>Negative</td>\n",
              "      <td>CSGO matchmaking is so full of closet hacking,...</td>\n",
              "    </tr>\n",
              "    <tr>\n",
              "      <th>4</th>\n",
              "      <td>4433</td>\n",
              "      <td>Google</td>\n",
              "      <td>Neutral</td>\n",
              "      <td>Now the President is slapping Americans in the...</td>\n",
              "    </tr>\n",
              "  </tbody>\n",
              "</table>\n",
              "</div>\n",
              "    <div class=\"colab-df-buttons\">\n",
              "\n",
              "  <div class=\"colab-df-container\">\n",
              "    <button class=\"colab-df-convert\" onclick=\"convertToInteractive('df-01b9ad1e-a2b9-442c-b73e-912de2ae7d6d')\"\n",
              "            title=\"Convert this dataframe to an interactive table.\"\n",
              "            style=\"display:none;\">\n",
              "\n",
              "  <svg xmlns=\"http://www.w3.org/2000/svg\" height=\"24px\" viewBox=\"0 -960 960 960\">\n",
              "    <path d=\"M120-120v-720h720v720H120Zm60-500h600v-160H180v160Zm220 220h160v-160H400v160Zm0 220h160v-160H400v160ZM180-400h160v-160H180v160Zm440 0h160v-160H620v160ZM180-180h160v-160H180v160Zm440 0h160v-160H620v160Z\"/>\n",
              "  </svg>\n",
              "    </button>\n",
              "\n",
              "  <style>\n",
              "    .colab-df-container {\n",
              "      display:flex;\n",
              "      gap: 12px;\n",
              "    }\n",
              "\n",
              "    .colab-df-convert {\n",
              "      background-color: #E8F0FE;\n",
              "      border: none;\n",
              "      border-radius: 50%;\n",
              "      cursor: pointer;\n",
              "      display: none;\n",
              "      fill: #1967D2;\n",
              "      height: 32px;\n",
              "      padding: 0 0 0 0;\n",
              "      width: 32px;\n",
              "    }\n",
              "\n",
              "    .colab-df-convert:hover {\n",
              "      background-color: #E2EBFA;\n",
              "      box-shadow: 0px 1px 2px rgba(60, 64, 67, 0.3), 0px 1px 3px 1px rgba(60, 64, 67, 0.15);\n",
              "      fill: #174EA6;\n",
              "    }\n",
              "\n",
              "    .colab-df-buttons div {\n",
              "      margin-bottom: 4px;\n",
              "    }\n",
              "\n",
              "    [theme=dark] .colab-df-convert {\n",
              "      background-color: #3B4455;\n",
              "      fill: #D2E3FC;\n",
              "    }\n",
              "\n",
              "    [theme=dark] .colab-df-convert:hover {\n",
              "      background-color: #434B5C;\n",
              "      box-shadow: 0px 1px 3px 1px rgba(0, 0, 0, 0.15);\n",
              "      filter: drop-shadow(0px 1px 2px rgba(0, 0, 0, 0.3));\n",
              "      fill: #FFFFFF;\n",
              "    }\n",
              "  </style>\n",
              "\n",
              "    <script>\n",
              "      const buttonEl =\n",
              "        document.querySelector('#df-01b9ad1e-a2b9-442c-b73e-912de2ae7d6d button.colab-df-convert');\n",
              "      buttonEl.style.display =\n",
              "        google.colab.kernel.accessAllowed ? 'block' : 'none';\n",
              "\n",
              "      async function convertToInteractive(key) {\n",
              "        const element = document.querySelector('#df-01b9ad1e-a2b9-442c-b73e-912de2ae7d6d');\n",
              "        const dataTable =\n",
              "          await google.colab.kernel.invokeFunction('convertToInteractive',\n",
              "                                                    [key], {});\n",
              "        if (!dataTable) return;\n",
              "\n",
              "        const docLinkHtml = 'Like what you see? Visit the ' +\n",
              "          '<a target=\"_blank\" href=https://colab.research.google.com/notebooks/data_table.ipynb>data table notebook</a>'\n",
              "          + ' to learn more about interactive tables.';\n",
              "        element.innerHTML = '';\n",
              "        dataTable['output_type'] = 'display_data';\n",
              "        await google.colab.output.renderOutput(dataTable, element);\n",
              "        const docLink = document.createElement('div');\n",
              "        docLink.innerHTML = docLinkHtml;\n",
              "        element.appendChild(docLink);\n",
              "      }\n",
              "    </script>\n",
              "  </div>\n",
              "\n",
              "\n",
              "<div id=\"df-08cc8bf4-bc9c-4cf3-8a8d-c05039100578\">\n",
              "  <button class=\"colab-df-quickchart\" onclick=\"quickchart('df-08cc8bf4-bc9c-4cf3-8a8d-c05039100578')\"\n",
              "            title=\"Suggest charts\"\n",
              "            style=\"display:none;\">\n",
              "\n",
              "<svg xmlns=\"http://www.w3.org/2000/svg\" height=\"24px\"viewBox=\"0 0 24 24\"\n",
              "     width=\"24px\">\n",
              "    <g>\n",
              "        <path d=\"M19 3H5c-1.1 0-2 .9-2 2v14c0 1.1.9 2 2 2h14c1.1 0 2-.9 2-2V5c0-1.1-.9-2-2-2zM9 17H7v-7h2v7zm4 0h-2V7h2v10zm4 0h-2v-4h2v4z\"/>\n",
              "    </g>\n",
              "</svg>\n",
              "  </button>\n",
              "\n",
              "<style>\n",
              "  .colab-df-quickchart {\n",
              "      --bg-color: #E8F0FE;\n",
              "      --fill-color: #1967D2;\n",
              "      --hover-bg-color: #E2EBFA;\n",
              "      --hover-fill-color: #174EA6;\n",
              "      --disabled-fill-color: #AAA;\n",
              "      --disabled-bg-color: #DDD;\n",
              "  }\n",
              "\n",
              "  [theme=dark] .colab-df-quickchart {\n",
              "      --bg-color: #3B4455;\n",
              "      --fill-color: #D2E3FC;\n",
              "      --hover-bg-color: #434B5C;\n",
              "      --hover-fill-color: #FFFFFF;\n",
              "      --disabled-bg-color: #3B4455;\n",
              "      --disabled-fill-color: #666;\n",
              "  }\n",
              "\n",
              "  .colab-df-quickchart {\n",
              "    background-color: var(--bg-color);\n",
              "    border: none;\n",
              "    border-radius: 50%;\n",
              "    cursor: pointer;\n",
              "    display: none;\n",
              "    fill: var(--fill-color);\n",
              "    height: 32px;\n",
              "    padding: 0;\n",
              "    width: 32px;\n",
              "  }\n",
              "\n",
              "  .colab-df-quickchart:hover {\n",
              "    background-color: var(--hover-bg-color);\n",
              "    box-shadow: 0 1px 2px rgba(60, 64, 67, 0.3), 0 1px 3px 1px rgba(60, 64, 67, 0.15);\n",
              "    fill: var(--button-hover-fill-color);\n",
              "  }\n",
              "\n",
              "  .colab-df-quickchart-complete:disabled,\n",
              "  .colab-df-quickchart-complete:disabled:hover {\n",
              "    background-color: var(--disabled-bg-color);\n",
              "    fill: var(--disabled-fill-color);\n",
              "    box-shadow: none;\n",
              "  }\n",
              "\n",
              "  .colab-df-spinner {\n",
              "    border: 2px solid var(--fill-color);\n",
              "    border-color: transparent;\n",
              "    border-bottom-color: var(--fill-color);\n",
              "    animation:\n",
              "      spin 1s steps(1) infinite;\n",
              "  }\n",
              "\n",
              "  @keyframes spin {\n",
              "    0% {\n",
              "      border-color: transparent;\n",
              "      border-bottom-color: var(--fill-color);\n",
              "      border-left-color: var(--fill-color);\n",
              "    }\n",
              "    20% {\n",
              "      border-color: transparent;\n",
              "      border-left-color: var(--fill-color);\n",
              "      border-top-color: var(--fill-color);\n",
              "    }\n",
              "    30% {\n",
              "      border-color: transparent;\n",
              "      border-left-color: var(--fill-color);\n",
              "      border-top-color: var(--fill-color);\n",
              "      border-right-color: var(--fill-color);\n",
              "    }\n",
              "    40% {\n",
              "      border-color: transparent;\n",
              "      border-right-color: var(--fill-color);\n",
              "      border-top-color: var(--fill-color);\n",
              "    }\n",
              "    60% {\n",
              "      border-color: transparent;\n",
              "      border-right-color: var(--fill-color);\n",
              "    }\n",
              "    80% {\n",
              "      border-color: transparent;\n",
              "      border-right-color: var(--fill-color);\n",
              "      border-bottom-color: var(--fill-color);\n",
              "    }\n",
              "    90% {\n",
              "      border-color: transparent;\n",
              "      border-bottom-color: var(--fill-color);\n",
              "    }\n",
              "  }\n",
              "</style>\n",
              "\n",
              "  <script>\n",
              "    async function quickchart(key) {\n",
              "      const quickchartButtonEl =\n",
              "        document.querySelector('#' + key + ' button');\n",
              "      quickchartButtonEl.disabled = true;  // To prevent multiple clicks.\n",
              "      quickchartButtonEl.classList.add('colab-df-spinner');\n",
              "      try {\n",
              "        const charts = await google.colab.kernel.invokeFunction(\n",
              "            'suggestCharts', [key], {});\n",
              "      } catch (error) {\n",
              "        console.error('Error during call to suggestCharts:', error);\n",
              "      }\n",
              "      quickchartButtonEl.classList.remove('colab-df-spinner');\n",
              "      quickchartButtonEl.classList.add('colab-df-quickchart-complete');\n",
              "    }\n",
              "    (() => {\n",
              "      let quickchartButtonEl =\n",
              "        document.querySelector('#df-08cc8bf4-bc9c-4cf3-8a8d-c05039100578 button');\n",
              "      quickchartButtonEl.style.display =\n",
              "        google.colab.kernel.accessAllowed ? 'block' : 'none';\n",
              "    })();\n",
              "  </script>\n",
              "</div>\n",
              "\n",
              "    </div>\n",
              "  </div>\n"
            ],
            "application/vnd.google.colaboratory.intrinsic+json": {
              "type": "dataframe",
              "variable_name": "df",
              "summary": "{\n  \"name\": \"df\",\n  \"rows\": 1000,\n  \"fields\": [\n    {\n      \"column\": \"TweetId\",\n      \"properties\": {\n        \"dtype\": \"number\",\n        \"std\": 3728,\n        \"min\": 6,\n        \"max\": 13197,\n        \"num_unique_values\": 1000,\n        \"samples\": [\n          11656,\n          9769,\n          7021\n        ],\n        \"semantic_type\": \"\",\n        \"description\": \"\"\n      }\n    },\n    {\n      \"column\": \"Companyname\",\n      \"properties\": {\n        \"dtype\": \"category\",\n        \"num_unique_values\": 32,\n        \"samples\": [\n          \"WorldOfCraft\",\n          \"RedDeadRedemption(RDR)\",\n          \"Xbox(Xseries)\"\n        ],\n        \"semantic_type\": \"\",\n        \"description\": \"\"\n      }\n    },\n    {\n      \"column\": \"Sentiment\",\n      \"properties\": {\n        \"dtype\": \"category\",\n        \"num_unique_values\": 4,\n        \"samples\": [\n          \"Neutral\",\n          \"Positive\",\n          \"Irrelevant\"\n        ],\n        \"semantic_type\": \"\",\n        \"description\": \"\"\n      }\n    },\n    {\n      \"column\": \"Tweet\",\n      \"properties\": {\n        \"dtype\": \"string\",\n        \"num_unique_values\": 999,\n        \"samples\": [\n          \"Man this some GTA shit lol.\",\n          \"@Xbox @majornelson I\\u2019d love to bring home a new Xbox Series X, but they are all sold out. So the emails are VERY misleading. Just sayin.\",\n          \"This is dope! Puff is such a great kid.\"\n        ],\n        \"semantic_type\": \"\",\n        \"description\": \"\"\n      }\n    }\n  ]\n}"
            }
          },
          "metadata": {},
          "execution_count": 6
        }
      ]
    },
    {
      "cell_type": "code",
      "source": [
        "df.info()"
      ],
      "metadata": {
        "colab": {
          "base_uri": "https://localhost:8080/"
        },
        "id": "uRu69tBda2ug",
        "outputId": "87c4fe6a-7ef7-4fb5-a4fd-140aa249cea0"
      },
      "execution_count": null,
      "outputs": [
        {
          "output_type": "stream",
          "name": "stdout",
          "text": [
            "<class 'pandas.core.frame.DataFrame'>\n",
            "RangeIndex: 1000 entries, 0 to 999\n",
            "Data columns (total 4 columns):\n",
            " #   Column       Non-Null Count  Dtype \n",
            "---  ------       --------------  ----- \n",
            " 0   TweetId      1000 non-null   int64 \n",
            " 1   Companyname  1000 non-null   object\n",
            " 2   Sentiment    1000 non-null   object\n",
            " 3   Tweet        1000 non-null   object\n",
            "dtypes: int64(1), object(3)\n",
            "memory usage: 31.4+ KB\n"
          ]
        }
      ]
    },
    {
      "cell_type": "code",
      "source": [
        "\n"
      ],
      "metadata": {
        "colab": {
          "base_uri": "https://localhost:8080/"
        },
        "id": "JDZeM-6gblG8",
        "outputId": "990e8f18-edd5-4277-da29-06455b443297"
      },
      "execution_count": null,
      "outputs": [
        {
          "output_type": "execute_result",
          "data": {
            "text/plain": [
              "1000"
            ]
          },
          "metadata": {},
          "execution_count": 13
        }
      ]
    },
    {
      "cell_type": "code",
      "source": [
        "tweet_counts = df['TweetId'].value_counts().reset_index()\n",
        "tweet_counts.columns = ['TweetId', 'Count']"
      ],
      "metadata": {
        "id": "icXIh7SEb8_U"
      },
      "execution_count": null,
      "outputs": []
    },
    {
      "cell_type": "code",
      "source": [
        "plt.figure(figsize=(10, 6))\n",
        "sns.barplot(x='TweetId', y='Count', data=tweet_counts, palette='viridis')\n",
        "plt.xlabel('TweetId')\n",
        "plt.ylabel('Count of Tweets')\n",
        "plt.title('Count of Tweets per TweetId')\n",
        "plt.show()"
      ],
      "metadata": {
        "colab": {
          "base_uri": "https://localhost:8080/",
          "height": 564
        },
        "id": "y84ZFt_reCfL",
        "outputId": "92c63c55-7857-4078-9270-e48621b46c71"
      },
      "execution_count": null,
      "outputs": [
        {
          "output_type": "display_data",
          "data": {
            "text/plain": [
              "<Figure size 1000x600 with 1 Axes>"
            ],
            "image/png": "[encoded data removed]"
          },
          "metadata": {}
        }
      ]
    },
    {
      "cell_type": "code",
      "source": [
        "from sklearn.model_selection import train_test_split\n",
        "\n",
        "x_train, x_test, y_train, y_test = train_test_split( df['TweetId'],df['Sentiment'], random_state=42, test_size=0.25)"
      ],
      "metadata": {
        "id": "sjaAN3e8ce5z"
      },
      "execution_count": null,
      "outputs": []
    },
    {
      "cell_type": "code",
      "source": [
        "from sklearn.linear_model import LogisticRegression\n",
        "from sklearn.metrics import f1_score, accuracy_score\n"
      ],
      "metadata": {
        "id": "N2cLCDvxc8hf"
      },
      "execution_count": null,
      "outputs": []
    },
    {
      "cell_type": "code",
      "source": [
        "# training\n",
        "model = LogisticRegression()\n",
        "model.fit(x_train, y_train)"
      ],
      "metadata": {
        "colab": {
          "base_uri": "https://localhost:8080/",
          "height": 1000
        },
        "id": "cMcGmC4Yc-KX",
        "outputId": "ed9e0a82-3445-4c9b-ef1a-3345545fc7bd"
      },
      "execution_count": null,
      "outputs": [
        {
          "output_type": "error",
          "ename": "ValueError",
          "evalue": "Expected 2D array, got 1D array instead:\narray=[9.8600e+02 2.1650e+03 6.8900e+02 5.1820e+03 1.5290e+03 5.4540e+03\n 2.8700e+02 3.6210e+03 1.2664e+04 6.2730e+03 1.1710e+03 1.2946e+04\n 1.5890e+03 1.1567e+04 3.0840e+03 2.2490e+03 9.9910e+03 1.0188e+04\n 3.4490e+03 1.0280e+04 8.6170e+03 1.1577e+04 1.1760e+04 1.1941e+04\n 3.9400e+02 2.0690e+03 1.1753e+04 2.4140e+03 4.1770e+03 9.7000e+02\n 1.1033e+04 7.3650e+03 7.9500e+03 2.8970e+03 9.5060e+03 7.3660e+03\n 4.3670e+03 3.5320e+03 6.8960e+03 2.3360e+03 9.5720e+03 4.4710e+03\n 7.6180e+03 7.5470e+03 4.6500e+03 4.3060e+03 1.1046e+04 8.1510e+03\n 1.1332e+04 6.5600e+03 4.8510e+03 9.3880e+03 9.8700e+02 9.4670e+03\n 1.6050e+03 3.5300e+02 3.6020e+03 7.6310e+03 2.7520e+03 8.9900e+03\n 6.7180e+03 7.6890e+03 2.7030e+03 1.1824e+04 2.7090e+03 4.9360e+03\n 1.2681e+04 8.3430e+03 1.0370e+04 1.1551e+04 4.4380e+03 2.5320e+03\n 2.5730e+03 2.3840e+03 1.0121e+04 1.1962e+04 8.4080e+03 4.8400e+03\n 3.0000e+02 9.6190e+03 1.2714e+04 9.4150e+03 2.1600e+03 9.4370e+03\n 3.3640e+03 1.1533e+04 8.7280e+03 4.3770e+03 6.6400e+03 8.9980e+03\n 1.2541e+04 5.5360e+03 5.0750e+03 8.4380e+03 7.8290e+03 1.4740e+03\n 5.8320e+03 6.9170e+03 5.4480e+03 6.2190e+03 1.1536e+04 3.3310e+03\n 5.7560e+03 7.7400e+03 1.1388e+04 1.7010e+03 1.0091e+04 4.1860e+03\n 8.3730e+03 2.2180e+03 1.1149e+04 1.0719e+04 6.0560e+03 6.7150e+03\n 9.3500e+03 1.0193e+04 6.4070e+03 3.8010e+03 3.7270e+03 2.4800e+03\n 8.4860e+03 5.0250e+03 6.4080e+03 3.4870e+03 7.9250e+03 6.5830e+03\n 2.6000e+03 8.3670e+03 1.2444e+04 2.4500e+03 2.3350e+03 3.7290e+03\n 1.1852e+04 3.3290e+03 4.2910e+03 6.8910e+03 5.3280e+03 1.0185e+04\n 1.1504e+04 3.5580e+03 1.0568e+04 9.2680e+03 5.1500e+02 1.0078e+04\n 7.4440e+03 1.7250e+03 6.9920e+03 9.4520e+03 5.9840e+03 2.6520e+03\n 5.2600e+02 8.9700e+03 9.2290e+03 4.0400e+03 6.2000e+02 1.9010e+03\n 6.2720e+03 1.0695e+04 1.0275e+04 6.0860e+03 6.3230e+03 1.2469e+04\n 5.9650e+03 5.6880e+03 9.5300e+02 8.0000e+01 5.3130e+03 1.8220e+03\n 4.6260e+03 3.7230e+03 1.0537e+04 1.0102e+04 7.8520e+03 8.6640e+03\n 7.6350e+03 1.0444e+04 1.2487e+04 1.1480e+03 4.3730e+03 6.9610e+03\n 2.8570e+03 7.4460e+03 3.2770e+03 6.9490e+03 1.1310e+03 1.1783e+04\n 6.6100e+03 1.3074e+04 1.0162e+04 7.6640e+03 7.3490e+03 5.0410e+03\n 1.1957e+04 9.6570e+03 9.6660e+03 4.3340e+03 4.3330e+03 4.6970e+03\n 1.0429e+04 8.5500e+02 3.4050e+03 9.6640e+03 9.4950e+03 1.4950e+03\n 6.9530e+03 3.7200e+03 7.7260e+03 9.6340e+03 1.0082e+04 1.1107e+04\n 8.6100e+02 3.4880e+03 6.4660e+03 1.0309e+04 5.1490e+03 7.8300e+02\n 1.1685e+04 7.4060e+03 3.1690e+03 1.3012e+04 6.4960e+03 3.9290e+03\n 1.3033e+04 1.1175e+04 6.4040e+03 7.5160e+03 5.0680e+03 1.1900e+04\n 1.4390e+03 4.7610e+03 9.9660e+03 2.0570e+03 1.1720e+03 1.1106e+04\n 6.6190e+03 3.1600e+02 2.2160e+03 1.0933e+04 1.1331e+04 3.8380e+03\n 4.8650e+03 2.9940e+03 1.1505e+04 1.1693e+04 9.1160e+03 5.1540e+03\n 1.2409e+04 8.1840e+03 4.2350e+03 5.5980e+03 9.9400e+03 4.3430e+03\n 1.4480e+03 1.0880e+03 1.2809e+04 2.0100e+02 1.0694e+04 9.0630e+03\n 1.6940e+03 1.7520e+03 4.8950e+03 1.0461e+04 9.1050e+03 9.1350e+03\n 1.2700e+02 3.4020e+03 8.3710e+03 1.0670e+04 3.1080e+03 2.2860e+03\n 1.0223e+04 2.7900e+02 6.8530e+03 1.5650e+03 3.4500e+02 2.3750e+03\n 9.4940e+03 4.4530e+03 6.1640e+03 6.3800e+02 5.6000e+02 1.9080e+03\n 6.6580e+03 7.0040e+03 2.0490e+03 1.2565e+04 1.2200e+02 1.7100e+02\n 1.3160e+04 9.1450e+03 1.2030e+03 1.2987e+04 1.1006e+04 1.1417e+04\n 9.6000e+01 1.1755e+04 2.0150e+03 7.8010e+03 7.2590e+03 1.0729e+04\n 9.1490e+03 2.1950e+03 1.1306e+04 8.6970e+03 4.0180e+03 8.3050e+03\n 1.0722e+04 7.0190e+03 5.2070e+03 7.5060e+03 1.1328e+04 6.9600e+03\n 2.1800e+02 4.0900e+03 4.1000e+02 8.0000e+02 7.3060e+03 2.7510e+03\n 3.3610e+03 4.3130e+03 1.0262e+04 2.7130e+03 1.6800e+02 9.4880e+03\n 8.7160e+03 1.0849e+04 5.4730e+03 2.4570e+03 2.1900e+03 2.0140e+03\n 6.2910e+03 8.0560e+03 1.4250e+03 5.6410e+03 1.0644e+04 5.2120e+03\n 3.7640e+03 7.2600e+02 8.0700e+02 9.4730e+03 6.0380e+03 1.8570e+03\n 1.1544e+04 1.1633e+04 7.5750e+03 1.1248e+04 1.4310e+03 5.4550e+03\n 7.8480e+03 1.1610e+04 3.0680e+03 8.9840e+03 1.2210e+03 1.2480e+04\n 1.2456e+04 1.2600e+02 1.0422e+04 5.1220e+03 1.3158e+04 5.3330e+03\n 3.6170e+03 6.3530e+03 9.7900e+02 5.0830e+03 1.1155e+04 3.3530e+03\n 1.1431e+04 6.1870e+03 1.3730e+03 1.1378e+04 1.1653e+04 7.7500e+02\n 1.7830e+03 1.1240e+04 4.8220e+03 6.8380e+03 2.2740e+03 8.3180e+03\n 6.5930e+03 1.5860e+03 4.9510e+03 6.7720e+03 1.2792e+04 5.9210e+03\n 1.5820e+03 7.2510e+03 1.1995e+04 6.7500e+03 9.8000e+02 8.3770e+03\n 8.9170e+03 3.4310e+03 1.2997e+04 2.7690e+03 3.5250e+03 1.0406e+04\n 6.2970e+03 1.0889e+04 5.0480e+03 1.0986e+04 4.9740e+03 1.3180e+03\n 1.6600e+02 1.0008e+04 1.0646e+04 5.7110e+03 2.6950e+03 1.2640e+03\n 7.2130e+03 7.3900e+02 6.2180e+03 1.0888e+04 3.1400e+02 1.0080e+04\n 5.2650e+03 5.5050e+03 1.2000e+01 8.8220e+03 5.5680e+03 1.1465e+04\n 1.0498e+04 1.3107e+04 5.8880e+03 6.8900e+03 3.0830e+03 6.3790e+03\n 3.1480e+03 1.0844e+04 1.0602e+04 1.0027e+04 1.6190e+03 1.2831e+04\n 6.0980e+03 1.1070e+03 6.3610e+03 1.0589e+04 1.2720e+04 9.0890e+03\n 2.5470e+03 9.6610e+03 1.3150e+04 7.5810e+03 2.0980e+03 1.0748e+04\n 5.1920e+03 7.9500e+02 1.0271e+04 2.9350e+03 1.2493e+04 1.0268e+04\n 6.0400e+02 2.6030e+03 9.0540e+03 1.1440e+04 2.1030e+03 9.6970e+03\n 8.0420e+03 1.0906e+04 2.2550e+03 7.9550e+03 5.4790e+03 3.6400e+02\n 7.1000e+02 4.8210e+03 6.5860e+03 9.7660e+03 1.9670e+03 7.0690e+03\n 1.1565e+04 1.0021e+04 1.0708e+04 7.7330e+03 1.0596e+04 6.4310e+03\n 7.8790e+03 6.1370e+03 3.9930e+03 6.3390e+03 7.8350e+03 9.0390e+03\n 6.1600e+02 2.5920e+03 7.2670e+03 7.1200e+02 6.1850e+03 9.8200e+03\n 1.0555e+04 7.2050e+03 3.6450e+03 5.3300e+02 5.9990e+03 4.5330e+03\n 5.6810e+03 3.2540e+03 1.0544e+04 6.8770e+03 6.0550e+03 9.1020e+03\n 7.3820e+03 1.9610e+03 3.0570e+03 9.5330e+03 1.9540e+03 9.8640e+03\n 3.0800e+03 5.8600e+02 1.0315e+04 4.4160e+03 7.9470e+03 6.7870e+03\n 3.2060e+03 1.1590e+04 3.0370e+03 1.0558e+04 1.3720e+03 8.1800e+02\n 9.8070e+03 1.2689e+04 7.2490e+03 3.1900e+02 1.0520e+04 6.6400e+02\n 1.8040e+03 1.0350e+03 1.2725e+04 8.9730e+03 1.2582e+04 9.2100e+02\n 4.7980e+03 9.8950e+03 6.2800e+03 9.5080e+03 8.1310e+03 9.6750e+03\n 3.4560e+03 2.7850e+03 3.6390e+03 7.6170e+03 6.3560e+03 1.0412e+04\n 1.0778e+04 5.1900e+02 4.9050e+03 3.3140e+03 9.8360e+03 1.1615e+04\n 3.2290e+03 1.5050e+03 6.8500e+03 1.2554e+04 8.1700e+03 4.5540e+03\n 8.1300e+02 8.7180e+03 4.1320e+03 8.3300e+02 1.0007e+04 1.1977e+04\n 6.3400e+03 2.3370e+03 6.9770e+03 2.5270e+03 9.5950e+03 4.5690e+03\n 1.1613e+04 1.0307e+04 6.0290e+03 4.9300e+02 9.4560e+03 7.2810e+03\n 1.8230e+03 4.9980e+03 5.6800e+02 3.9120e+03 1.2514e+04 6.9060e+03\n 1.1869e+04 1.1030e+03 1.0095e+04 9.7920e+03 1.0598e+04 4.2750e+03\n 1.4980e+03 9.3530e+03 4.4330e+03 4.8940e+03 5.3120e+03 2.6530e+03\n 3.5400e+02 8.3200e+02 1.0320e+03 6.6460e+03 8.3600e+03 3.5260e+03\n 4.7000e+03 8.9430e+03 4.0200e+03 8.3490e+03 7.1080e+03 7.0480e+03\n 7.0240e+03 3.8980e+03 5.3010e+03 6.8890e+03 7.4580e+03 9.4490e+03\n 9.6990e+03 1.0496e+04 1.2806e+04 3.0610e+03 5.2170e+03 6.3380e+03\n 8.8050e+03 2.1500e+02 1.8820e+03 6.8260e+03 2.0080e+03 1.3044e+04\n 1.1403e+04 5.0700e+02 6.0910e+03 1.9900e+03 2.2190e+03 8.8460e+03\n 9.7880e+03 6.3030e+03 8.5580e+03 4.2700e+02 8.4310e+03 1.2716e+04\n 2.3660e+03 8.2920e+03 3.6700e+03 5.3230e+03 1.5900e+02 6.9640e+03\n 1.2912e+04 6.0220e+03 1.0073e+04 5.4640e+03 6.1430e+03 1.8000e+01\n 1.1100e+03 1.1620e+04 7.8060e+03 9.8800e+03 5.2850e+03 5.0450e+03\n 2.9410e+03 4.3590e+03 4.4700e+03 5.5320e+03 3.4260e+03 1.0534e+04\n 1.2548e+04 1.1529e+04 6.8060e+03 5.3380e+03 1.1674e+04 6.8940e+03\n 5.4290e+03 8.2900e+02 4.6500e+02 8.6190e+03 9.0820e+03 3.5200e+02\n 9.4960e+03 9.4460e+03 3.4210e+03 8.1210e+03 1.0156e+04 6.6500e+03\n 7.2990e+03 3.7570e+03 4.1530e+03 1.0513e+04 9.8400e+03 3.2860e+03\n 8.9550e+03 3.9980e+03 2.7430e+03 1.1311e+04 1.0712e+04 3.6750e+03\n 4.2860e+03 7.5870e+03 1.2652e+04 1.2743e+04 5.8610e+03 7.1000e+03\n 6.7730e+03 2.9620e+03 1.2594e+04 1.5700e+02 1.6730e+03 5.4950e+03\n 4.9000e+01 1.2790e+04 1.1060e+03 8.8260e+03 1.3176e+04 8.2200e+03\n 9.9150e+03 5.7310e+03 1.1214e+04 6.8540e+03 1.1550e+04 4.9250e+03\n 2.8700e+03 2.2770e+03 1.2618e+04 1.7890e+03 2.2000e+02 9.4030e+03\n 6.9070e+03 5.4500e+03 1.0249e+04 1.0256e+04 8.5440e+03 9.3360e+03\n 4.1580e+03 2.4300e+03 6.6940e+03 1.3098e+04 1.3000e+01 7.0940e+03\n 1.1622e+04 2.4860e+03 3.4690e+03 7.7800e+03 7.5640e+03 3.3160e+03\n 1.0595e+04 8.1740e+03 2.7380e+03 1.0334e+04 1.0212e+04 3.0580e+03\n 1.5510e+03 4.4560e+03 4.5740e+03 1.2677e+04 2.1310e+03 4.8110e+03\n 7.0820e+03 1.7140e+03 1.6980e+03 7.2720e+03 2.7500e+03 3.9480e+03].\nReshape your data either using array.reshape(-1, 1) if your data has a single feature or array.reshape(1, -1) if it contains a single sample.",
          "traceback": [
            "\u001b[0;31m---------------------------------------------------------------------------\u001b[0m",
            "\u001b[0;31mValueError\u001b[0m                                Traceback (most recent call last)",
            "\u001b[0;32m<ipython-input-46-7f88c16b7213>\u001b[0m in \u001b[0;36m<cell line: 4>\u001b[0;34m()\u001b[0m\n\u001b[1;32m      2\u001b[0m \u001b[0mmodel\u001b[0m \u001b[0;34m=\u001b[0m \u001b[0mLogisticRegression\u001b[0m\u001b[0;34m(\u001b[0m\u001b[0;34m)\u001b[0m\u001b[0;34m\u001b[0m\u001b[0;34m\u001b[0m\u001b[0m\n\u001b[1;32m      3\u001b[0m \u001b[0;34m\u001b[0m\u001b[0m\n\u001b[0;32m----> 4\u001b[0;31m \u001b[0mmodel\u001b[0m\u001b[0;34m.\u001b[0m\u001b[0mfit\u001b[0m\u001b[0;34m(\u001b[0m\u001b[0mx_train\u001b[0m\u001b[0;34m,\u001b[0m \u001b[0my_train\u001b[0m\u001b[0;34m)\u001b[0m\u001b[0;34m\u001b[0m\u001b[0;34m\u001b[0m\u001b[0m\n\u001b[0m",
            "\u001b[0;32m/usr/local/lib/python3.10/dist-packages/sklearn/linear_model/_logistic.py\u001b[0m in \u001b[0;36mfit\u001b[0;34m(self, X, y, sample_weight)\u001b[0m\n\u001b[1;32m   1194\u001b[0m             \u001b[0m_dtype\u001b[0m \u001b[0;34m=\u001b[0m \u001b[0;34m[\u001b[0m\u001b[0mnp\u001b[0m\u001b[0;34m.\u001b[0m\u001b[0mfloat64\u001b[0m\u001b[0;34m,\u001b[0m \u001b[0mnp\u001b[0m\u001b[0;34m.\u001b[0m\u001b[0mfloat32\u001b[0m\u001b[0;34m]\u001b[0m\u001b[0;34m\u001b[0m\u001b[0;34m\u001b[0m\u001b[0m\n\u001b[1;32m   1195\u001b[0m \u001b[0;34m\u001b[0m\u001b[0m\n\u001b[0;32m-> 1196\u001b[0;31m         X, y = self._validate_data(\n\u001b[0m\u001b[1;32m   1197\u001b[0m             \u001b[0mX\u001b[0m\u001b[0;34m,\u001b[0m\u001b[0;34m\u001b[0m\u001b[0;34m\u001b[0m\u001b[0m\n\u001b[1;32m   1198\u001b[0m             \u001b[0my\u001b[0m\u001b[0;34m,\u001b[0m\u001b[0;34m\u001b[0m\u001b[0;34m\u001b[0m\u001b[0m\n",
            "\u001b[0;32m/usr/local/lib/python3.10/dist-packages/sklearn/base.py\u001b[0m in \u001b[0;36m_validate_data\u001b[0;34m(self, X, y, reset, validate_separately, **check_params)\u001b[0m\n\u001b[1;32m    582\u001b[0m                 \u001b[0my\u001b[0m \u001b[0;34m=\u001b[0m \u001b[0mcheck_array\u001b[0m\u001b[0;34m(\u001b[0m\u001b[0my\u001b[0m\u001b[0;34m,\u001b[0m \u001b[0minput_name\u001b[0m\u001b[0;34m=\u001b[0m\u001b[0;34m\"y\"\u001b[0m\u001b[0;34m,\u001b[0m \u001b[0;34m**\u001b[0m\u001b[0mcheck_y_params\u001b[0m\u001b[0;34m)\u001b[0m\u001b[0;34m\u001b[0m\u001b[0;34m\u001b[0m\u001b[0m\n\u001b[1;32m    583\u001b[0m             \u001b[0;32melse\u001b[0m\u001b[0;34m:\u001b[0m\u001b[0;34m\u001b[0m\u001b[0;34m\u001b[0m\u001b[0m\n\u001b[0;32m--> 584\u001b[0;31m                 \u001b[0mX\u001b[0m\u001b[0;34m,\u001b[0m \u001b[0my\u001b[0m \u001b[0;34m=\u001b[0m \u001b[0mcheck_X_y\u001b[0m\u001b[0;34m(\u001b[0m\u001b[0mX\u001b[0m\u001b[0;34m,\u001b[0m \u001b[0my\u001b[0m\u001b[0;34m,\u001b[0m \u001b[0;34m**\u001b[0m\u001b[0mcheck_params\u001b[0m\u001b[0;34m)\u001b[0m\u001b[0;34m\u001b[0m\u001b[0;34m\u001b[0m\u001b[0m\n\u001b[0m\u001b[1;32m    585\u001b[0m             \u001b[0mout\u001b[0m \u001b[0;34m=\u001b[0m \u001b[0mX\u001b[0m\u001b[0;34m,\u001b[0m \u001b[0my\u001b[0m\u001b[0;34m\u001b[0m\u001b[0;34m\u001b[0m\u001b[0m\n\u001b[1;32m    586\u001b[0m \u001b[0;34m\u001b[0m\u001b[0m\n",
            "\u001b[0;32m/usr/local/lib/python3.10/dist-packages/sklearn/utils/validation.py\u001b[0m in \u001b[0;36mcheck_X_y\u001b[0;34m(X, y, accept_sparse, accept_large_sparse, dtype, order, copy, force_all_finite, ensure_2d, allow_nd, multi_output, ensure_min_samples, ensure_min_features, y_numeric, estimator)\u001b[0m\n\u001b[1;32m   1104\u001b[0m         )\n\u001b[1;32m   1105\u001b[0m \u001b[0;34m\u001b[0m\u001b[0m\n\u001b[0;32m-> 1106\u001b[0;31m     X = check_array(\n\u001b[0m\u001b[1;32m   1107\u001b[0m         \u001b[0mX\u001b[0m\u001b[0;34m,\u001b[0m\u001b[0;34m\u001b[0m\u001b[0;34m\u001b[0m\u001b[0m\n\u001b[1;32m   1108\u001b[0m         \u001b[0maccept_sparse\u001b[0m\u001b[0;34m=\u001b[0m\u001b[0maccept_sparse\u001b[0m\u001b[0;34m,\u001b[0m\u001b[0;34m\u001b[0m\u001b[0;34m\u001b[0m\u001b[0m\n",
            "\u001b[0;32m/usr/local/lib/python3.10/dist-packages/sklearn/utils/validation.py\u001b[0m in \u001b[0;36mcheck_array\u001b[0;34m(array, accept_sparse, accept_large_sparse, dtype, order, copy, force_all_finite, ensure_2d, allow_nd, ensure_min_samples, ensure_min_features, estimator, input_name)\u001b[0m\n\u001b[1;32m    900\u001b[0m             \u001b[0;31m# If input is 1D raise error\u001b[0m\u001b[0;34m\u001b[0m\u001b[0;34m\u001b[0m\u001b[0m\n\u001b[1;32m    901\u001b[0m             \u001b[0;32mif\u001b[0m \u001b[0marray\u001b[0m\u001b[0;34m.\u001b[0m\u001b[0mndim\u001b[0m \u001b[0;34m==\u001b[0m \u001b[0;36m1\u001b[0m\u001b[0;34m:\u001b[0m\u001b[0;34m\u001b[0m\u001b[0;34m\u001b[0m\u001b[0m\n\u001b[0;32m--> 902\u001b[0;31m                 raise ValueError(\n\u001b[0m\u001b[1;32m    903\u001b[0m                     \u001b[0;34m\"Expected 2D array, got 1D array instead:\\narray={}.\\n\"\u001b[0m\u001b[0;34m\u001b[0m\u001b[0;34m\u001b[0m\u001b[0m\n\u001b[1;32m    904\u001b[0m                     \u001b[0;34m\"Reshape your data either using array.reshape(-1, 1) if \"\u001b[0m\u001b[0;34m\u001b[0m\u001b[0;34m\u001b[0m\u001b[0m\n",
            "\u001b[0;31mValueError\u001b[0m: Expected 2D array, got 1D array instead:\narray=[9.8600e+02 2.1650e+03 6.8900e+02 5.1820e+03 1.5290e+03 5.4540e+03\n 2.8700e+02 3.6210e+03 1.2664e+04 6.2730e+03 1.1710e+03 1.2946e+04\n 1.5890e+03 1.1567e+04 3.0840e+03 2.2490e+03 9.9910e+03 1.0188e+04\n 3.4490e+03 1.0280e+04 8.6170e+03 1.1577e+04 1.1760e+04 1.1941e+04\n 3.9400e+02 2.0690e+03 1.1753e+04 2.4140e+03 4.1770e+03 9.7000e+02\n 1.1033e+04 7.3650e+03 7.9500e+03 2.8970e+03 9.5060e+03 7.3660e+03\n 4.3670e+03 3.5320e+03 6.8960e+03 2.3360e+03 9.5720e+03 4.4710e+03\n 7.6180e+03 7.5470e+03 4.6500e+03 4.3060e+03 1.1046e+04 8.1510e+03\n 1.1332e+04 6.5600e+03 4.8510e+03 9.3880e+03 9.8700e+02 9.4670e+03\n 1.6050e+03 3.5300e+02 3.6020e+03 7.6310e+03 2.7520e+03 8.9900e+03\n 6.7180e+03 7.6890e+03 2.7030e+03 1.1824e+04 2.7090e+03 4.9360e+03\n 1.2681e+04 8.3430e+03 1.0370e+04 1.1551e+04 4.4380e+03 2.5320e+03\n 2.5730e+03 2.3840e+03 1.0121e+04 1.1962e+04 8.4080e+03 4.8400e+03\n 3.0000e+02 9.6190e+03 1.2714e+04 9.4150e+03 2.1600e+03 9.4370e+03\n 3.3640e+03 1.1533e+04 8.7280e+03 4.3770e+03 6.6400e+03 8.9980e+03\n 1.2541e+04 5.5360e+03 5.0750e+03 8.4380e+03 7.8290e+03 1.4740e+03\n 5.8320e+03 6.9170e+03 5.4480e+03 6.2190e+03 1.1536e+04 3.3310e+03\n 5.7560e+03 7.7400e+03 1.1388e+04 1.7010e+03 1.0091e+04 4.1860e+03\n 8.3730e+03 2.2180e+03 1.1149e+04 1.0719e+04 6.0560e+03 6.7150e+03\n 9.3500e+03 1.0193e+04 6.4070e+03 3.8010e+03 3.7270e+03 2.4800e+03\n 8.4860e+03 5.0250e+03 6.4080e+03 3.4870e+03 7.9250e+03 6.5830e+03\n 2.6000e+03 8.3670e+03 1.2444e+04 2.4500e+03 2.3350e+03 3.7290e+03\n 1.1852e+04 3.3290e+03 4.2910e+03 6.8910e+03 5.3280e+03 1.0185e+04\n 1.1504e+04 3.5580e+03 1.0568e+04 9.2680e+03 5.1500e+02 1.0078e+04\n 7.4440e+03 1.7250e+03 6.9920e+03 9.4520e+03 5.9840e+03 2.6520e+03\n 5.2600e+02 8.9700e+03 9.2290e+03 4.0400e+03 6.2000e+02 1.9010e+03\n 6.2720e+03 1.0695e+04 1.0275e+04 6.0860e+03 6.3230e+03 1.2469e+04\n 5.9650e+03 5.6880e+03 9.5300e+02 8.0000e+01 5.3130e+03 1.8220e+03\n 4.6260e+03 3.7230e+03 1.0537e+04 1.0102e+04 7.8520e+03 8.6640e+03\n 7.6350e+03 1.0444e+04 1.2487e+04 1.1480e+03 4.3730e+03 6.9610e+03\n 2.8570e+03 7.4460e+03 3.2770e+03 6.9490e+03 1.1310e+03 1.1783e+04\n 6.6100e+03 1.3074e+04 1.0162e+04 7.6640e+03 7.3490e+03 5.0410e+03\n 1.1957e+04 9.6570e+03 9.6660e+03 4.3340e+03 4.3330e+03 4.6970e+03\n 1.0429e+04 8.5500e+02 3.4050e+03 9.6640e+03 9.4950e+03 1.4950e+03\n 6.9530e+03 3.7200e+03 7.7260e+03 9.6340e+03 1.0082e+04 1.1107e+04\n 8.6100e+02 3.4880e+03 6.4660e+03 1.0309e+04 5.1490e+03 7.8300e+02\n 1.1685e+04 7.4060e+03 3.1690e+03 1.3012e+04 6.4960e+03 3.9290e+03\n 1.3033e+04 1.1175e+04 6.4040e+03 7.5160e+03 5.0680e+03 1.1900e+04\n 1.4390e+03 4.7610e+03 9.9660e+03 2.0570e+03 1.1720e+03 1.1106e+04\n 6.6190e+03 3.1600e+02 2.2160e+03 1.0933e+04 1.1331e+04 3.8380e+03\n 4.8650e+03 2.9940e+03 1.1505e+04 1.1693e+04 9.1160e+03 5.1540e+03\n 1.2409e+04 8.1840e+03 4.2350e+03 5.5980e+03 9.9400e+03 4.3430e+03\n 1.4480e+03 1.0880e+03 1.2809e+04 2.0100e+02 1.0694e+04 9.0630e+03\n 1.6940e+03 1.7520e+03 4.8950e+03 1.0461e+04 9.1050e+03 9.1350e+03\n 1.2700e+02 3.4020e+03 8.3710e+03 1.0670e+04 3.1080e+03 2.2860e+03\n 1.0223e+04 2.7900e+02 6.8530e+03 1.5650e+03 3.4500e+02 2.3750e+03\n 9.4940e+03 4.4530e+03 6.1640e+03 6.3800e+02 5.6000e+02 1.9080e+03\n 6.6580e+03 7.0040e+03 2.0490e+03 1.2565e+04 1.2200e+02 1.7100e+02\n 1.3160e+04 9.1450e+03 1.2030e+03 1.2987e+04 1.1006e+04 1.1417e+04\n 9.6000e+01 1.1755e+04 2.0150e+03 7.8010e+03 7.2590e+03 1.0729e+04\n 9.1490e+03 2.1950e+03 1.1306e+04 8.6970e+03 4.0180e+03 8.3050e+03\n 1.0722e+04 7.0190e+03 5.2070e+03 7.5060e+03 1.1328e+04 6.9600e+03\n 2.1800e+02 4.0900e+03 4.1000e+02 8.0000e+02 7.3060e+03 2.7510e+03\n 3.3610e+03 4.3130e+03 1.0262e+04 2.7130e+03 1.6800e+02 9.4880e+03\n 8.7160e+03 1.0849e+04 5.4730e+03 2.4570e+03 2.1900e+03 2.0140e+03\n 6.2910e+03 8.0560e+03 1.4250e+03 5.6410e+03 1.0644e+04 5.2120e+03\n 3.7640e+03 7.2600e+02 8.0700e+02 9.4730e+03 6.0380e+03 1.8570e+03\n 1.1544e+04 1.1633e+04 7.5750e+03 1.1248e+04 1.4310e+03 5.4550e+03\n 7.8480e+03 1.1610e+04 3.0680e+03 8.9840e+03 1.2210e+03 1.2480e+04\n 1.2456e+04 1.2600e+02 1.0422e+04 5.1220e+03 1.3158e+04 5.3330e+03\n 3.6170e+03 6.3530e+03 9.7900e+02 5.0830e+03 1.1155e+04 3.3530e+03\n 1.1431e+04 6.1870e+03 1.3730e+03 1.1378e+04 1.1653e+04 7.7500e+02\n 1.7830e+03 1.1240e+04 4.8220e+03 6.8380e+03 2.2740e+03 8.3180e+03\n 6.5930e+03 1.5860e+03 4.9510e+03 6.7720e+03 1.2792e+04 5.9210e+03\n 1.5820e+03 7.2510e+03 1.1995e+04 6.7500e+03 9.8000e+02 8.3770e+03\n 8.9170e+03 3.4310e+03 1.2997e+04 2.7690e+03 3.5250e+03 1.0406e+04\n 6.2970e+03 1.0889e+04 5.0480e+03 1.0986e+04 4.9740e+03 1.3180e+03\n 1.6600e+02 1.0008e+04 1.0646e+04 5.7110e+03 2.6950e+03 1.2640e+03\n 7.2130e+03 7.3900e+02 6.2180e+03 1.0888e+04 3.1400e+02 1.0080e+04\n 5.2650e+03 5.5050e+03 1.2000e+01 8.8220e+03 5.5680e+03 1.1465e+04\n 1.0498e+04 1.3107e+04 5.8880e+03 6.8900e+03 3.0830e+03 6.3790e+03\n 3.1480e+03 1.0844e+04 1.0602e+04 1.0027e+04 1.6190e+03 1.2831e+04\n 6.0980e+03 1.1070e+03 6.3610e+03 1.0589e+04 1.2720e+04 9.0890e+03\n 2.5470e+03 9.6610e+03 1.3150e+04 7.5810e+03 2.0980e+03 1.0748e+04\n 5.1920e+03 7.9500e+02 1.0271e+04 2.9350e+03 1.2493e+04 1.0268e+04\n 6.0400e+02 2.6030e+03 9.0540e+03 1.1440e+04 2.1030e+03 9.6970e+03\n 8.0420e+03 1.0906e+04 2.2550e+03 7.9550e+03 5.4790e+03 3.6400e+02\n 7.1000e+02 4.8210e+03 6.5860e+03 9.7660e+03 1.9670e+03 7.0690e+03\n 1.1565e+04 1.0021e+04 1.0708e+04 7.7330e+03 1.0596e+04 6.4310e+03\n 7.8790e+03 6.1370e+03 3.9930e+03 6.3390e+03 7.8350e+03 9.0390e+03\n 6.1600e+02 2.5920e+03 7.2670e+03 7.1200e+02 6.1850e+03 9.8200e+03\n 1.0555e+04 7.2050e+03 3.6450e+03 5.3300e+02 5.9990e+03 4.5330e+03\n 5.6810e+03 3.2540e+03 1.0544e+04 6.8770e+03 6.0550e+03 9.1020e+03\n 7.3820e+03 1.9610e+03 3.0570e+03 9.5330e+03 1.9540e+03 9.8640e+03\n 3.0800e+03 5.8600e+02 1.0315e+04 4.4160e+03 7.9470e+03 6.7870e+03\n 3.2060e+03 1.1590e+04 3.0370e+03 1.0558e+04 1.3720e+03 8.1800e+02\n 9.8070e+03 1.2689e+04 7.2490e+03 3.1900e+02 1.0520e+04 6.6400e+02\n 1.8040e+03 1.0350e+03 1.2725e+04 8.9730e+03 1.2582e+04 9.2100e+02\n 4.7980e+03 9.8950e+03 6.2800e+03 9.5080e+03 8.1310e+03 9.6750e+03\n 3.4560e+03 2.7850e+03 3.6390e+03 7.6170e+03 6.3560e+03 1.0412e+04\n 1.0778e+04 5.1900e+02 4.9050e+03 3.3140e+03 9.8360e+03 1.1615e+04\n 3.2290e+03 1.5050e+03 6.8500e+03 1.2554e+04 8.1700e+03 4.5540e+03\n 8.1300e+02 8.7180e+03 4.1320e+03 8.3300e+02 1.0007e+04 1.1977e+04\n 6.3400e+03 2.3370e+03 6.9770e+03 2.5270e+03 9.5950e+03 4.5690e+03\n 1.1613e+04 1.0307e+04 6.0290e+03 4.9300e+02 9.4560e+03 7.2810e+03\n 1.8230e+03 4.9980e+03 5.6800e+02 3.9120e+03 1.2514e+04 6.9060e+03\n 1.1869e+04 1.1030e+03 1.0095e+04 9.7920e+03 1.0598e+04 4.2750e+03\n 1.4980e+03 9.3530e+03 4.4330e+03 4.8940e+03 5.3120e+03 2.6530e+03\n 3.5400e+02 8.3200e+02 1.0320e+03 6.6460e+03 8.3600e+03 3.5260e+03\n 4.7000e+03 8.9430e+03 4.0200e+03 8.3490e+03 7.1080e+03 7.0480e+03\n 7.0240e+03 3.8980e+03 5.3010e+03 6.8890e+03 7.4580e+03 9.4490e+03\n 9.6990e+03 1.0496e+04 1.2806e+04 3.0610e+03 5.2170e+03 6.3380e+03\n 8.8050e+03 2.1500e+02 1.8820e+03 6.8260e+03 2.0080e+03 1.3044e+04\n 1.1403e+04 5.0700e+02 6.0910e+03 1.9900e+03 2.2190e+03 8.8460e+03\n 9.7880e+03 6.3030e+03 8.5580e+03 4.2700e+02 8.4310e+03 1.2716e+04\n 2.3660e+03 8.2920e+03 3.6700e+03 5.3230e+03 1.5900e+02 6.9640e+03\n 1.2912e+04 6.0220e+03 1.0073e+04 5.4640e+03 6.1430e+03 1.8000e+01\n 1.1100e+03 1.1620e+04 7.8060e+03 9.8800e+03 5.2850e+03 5.0450e+03\n 2.9410e+03 4.3590e+03 4.4700e+03 5.5320e+03 3.4260e+03 1.0534e+04\n 1.2548e+04 1.1529e+04 6.8060e+03 5.3380e+03 1.1674e+04 6.8940e+03\n 5.4290e+03 8.2900e+02 4.6500e+02 8.6190e+03 9.0820e+03 3.5200e+02\n 9.4960e+03 9.4460e+03 3.4210e+03 8.1210e+03 1.0156e+04 6.6500e+03\n 7.2990e+03 3.7570e+03 4.1530e+03 1.0513e+04 9.8400e+03 3.2860e+03\n 8.9550e+03 3.9980e+03 2.7430e+03 1.1311e+04 1.0712e+04 3.6750e+03\n 4.2860e+03 7.5870e+03 1.2652e+04 1.2743e+04 5.8610e+03 7.1000e+03\n 6.7730e+03 2.9620e+03 1.2594e+04 1.5700e+02 1.6730e+03 5.4950e+03\n 4.9000e+01 1.2790e+04 1.1060e+03 8.8260e+03 1.3176e+04 8.2200e+03\n 9.9150e+03 5.7310e+03 1.1214e+04 6.8540e+03 1.1550e+04 4.9250e+03\n 2.8700e+03 2.2770e+03 1.2618e+04 1.7890e+03 2.2000e+02 9.4030e+03\n 6.9070e+03 5.4500e+03 1.0249e+04 1.0256e+04 8.5440e+03 9.3360e+03\n 4.1580e+03 2.4300e+03 6.6940e+03 1.3098e+04 1.3000e+01 7.0940e+03\n 1.1622e+04 2.4860e+03 3.4690e+03 7.7800e+03 7.5640e+03 3.3160e+03\n 1.0595e+04 8.1740e+03 2.7380e+03 1.0334e+04 1.0212e+04 3.0580e+03\n 1.5510e+03 4.4560e+03 4.5740e+03 1.2677e+04 2.1310e+03 4.8110e+03\n 7.0820e+03 1.7140e+03 1.6980e+03 7.2720e+03 2.7500e+03 3.9480e+03].\nReshape your data either using array.reshape(-1, 1) if your data has a single feature or array.reshape(1, -1) if it contains a single sample."
          ]
        }
      ]
    },
    {
      "cell_type": "code",
      "source": [
        "# testing\n",
        "pred = model.predict(x_test)\n",
        "f1_score(y_test, pred)\n"
      ],
      "metadata": {
        "colab": {
          "base_uri": "https://localhost:8080/",
          "height": 321
        },
        "id": "VscmxTNMdAe_",
        "outputId": "fa378a72-f038-4ab1-824e-3bb1725f6b3b"
      },
      "execution_count": null,
      "outputs": [
        {
          "output_type": "error",
          "ename": "NotFittedError",
          "evalue": "This LogisticRegression instance is not fitted yet. Call 'fit' with appropriate arguments before using this estimator.",
          "traceback": [
            "\u001b[0;31m---------------------------------------------------------------------------\u001b[0m",
            "\u001b[0;31mNotFittedError\u001b[0m                            Traceback (most recent call last)",
            "\u001b[0;32m<ipython-input-47-ffa588c0c133>\u001b[0m in \u001b[0;36m<cell line: 2>\u001b[0;34m()\u001b[0m\n\u001b[1;32m      1\u001b[0m \u001b[0;31m# testing\u001b[0m\u001b[0;34m\u001b[0m\u001b[0;34m\u001b[0m\u001b[0m\n\u001b[0;32m----> 2\u001b[0;31m \u001b[0mpred\u001b[0m \u001b[0;34m=\u001b[0m \u001b[0mmodel\u001b[0m\u001b[0;34m.\u001b[0m\u001b[0mpredict\u001b[0m\u001b[0;34m(\u001b[0m\u001b[0mx_test\u001b[0m\u001b[0;34m)\u001b[0m\u001b[0;34m\u001b[0m\u001b[0;34m\u001b[0m\u001b[0m\n\u001b[0m\u001b[1;32m      3\u001b[0m \u001b[0mf1_score\u001b[0m\u001b[0;34m(\u001b[0m\u001b[0my_test\u001b[0m\u001b[0;34m,\u001b[0m \u001b[0mpred\u001b[0m\u001b[0;34m)\u001b[0m\u001b[0;34m\u001b[0m\u001b[0;34m\u001b[0m\u001b[0m\n",
            "\u001b[0;32m/usr/local/lib/python3.10/dist-packages/sklearn/linear_model/_base.py\u001b[0m in \u001b[0;36mpredict\u001b[0;34m(self, X)\u001b[0m\n\u001b[1;32m    417\u001b[0m         \"\"\"\n\u001b[1;32m    418\u001b[0m         \u001b[0mxp\u001b[0m\u001b[0;34m,\u001b[0m \u001b[0m_\u001b[0m \u001b[0;34m=\u001b[0m \u001b[0mget_namespace\u001b[0m\u001b[0;34m(\u001b[0m\u001b[0mX\u001b[0m\u001b[0;34m)\u001b[0m\u001b[0;34m\u001b[0m\u001b[0;34m\u001b[0m\u001b[0m\n\u001b[0;32m--> 419\u001b[0;31m         \u001b[0mscores\u001b[0m \u001b[0;34m=\u001b[0m \u001b[0mself\u001b[0m\u001b[0;34m.\u001b[0m\u001b[0mdecision_function\u001b[0m\u001b[0;34m(\u001b[0m\u001b[0mX\u001b[0m\u001b[0;34m)\u001b[0m\u001b[0;34m\u001b[0m\u001b[0;34m\u001b[0m\u001b[0m\n\u001b[0m\u001b[1;32m    420\u001b[0m         \u001b[0;32mif\u001b[0m \u001b[0mlen\u001b[0m\u001b[0;34m(\u001b[0m\u001b[0mscores\u001b[0m\u001b[0;34m.\u001b[0m\u001b[0mshape\u001b[0m\u001b[0;34m)\u001b[0m \u001b[0;34m==\u001b[0m \u001b[0;36m1\u001b[0m\u001b[0;34m:\u001b[0m\u001b[0;34m\u001b[0m\u001b[0;34m\u001b[0m\u001b[0m\n\u001b[1;32m    421\u001b[0m             \u001b[0mindices\u001b[0m \u001b[0;34m=\u001b[0m \u001b[0mxp\u001b[0m\u001b[0;34m.\u001b[0m\u001b[0mastype\u001b[0m\u001b[0;34m(\u001b[0m\u001b[0mscores\u001b[0m \u001b[0;34m>\u001b[0m \u001b[0;36m0\u001b[0m\u001b[0;34m,\u001b[0m \u001b[0mint\u001b[0m\u001b[0;34m)\u001b[0m\u001b[0;34m\u001b[0m\u001b[0;34m\u001b[0m\u001b[0m\n",
            "\u001b[0;32m/usr/local/lib/python3.10/dist-packages/sklearn/linear_model/_base.py\u001b[0m in \u001b[0;36mdecision_function\u001b[0;34m(self, X)\u001b[0m\n\u001b[1;32m    395\u001b[0m             \u001b[0mthis\u001b[0m \u001b[0;32mclass\u001b[0m \u001b[0mwould\u001b[0m \u001b[0mbe\u001b[0m \u001b[0mpredicted\u001b[0m\u001b[0;34m.\u001b[0m\u001b[0;34m\u001b[0m\u001b[0;34m\u001b[0m\u001b[0m\n\u001b[1;32m    396\u001b[0m         \"\"\"\n\u001b[0;32m--> 397\u001b[0;31m         \u001b[0mcheck_is_fitted\u001b[0m\u001b[0;34m(\u001b[0m\u001b[0mself\u001b[0m\u001b[0;34m)\u001b[0m\u001b[0;34m\u001b[0m\u001b[0;34m\u001b[0m\u001b[0m\n\u001b[0m\u001b[1;32m    398\u001b[0m         \u001b[0mxp\u001b[0m\u001b[0;34m,\u001b[0m \u001b[0m_\u001b[0m \u001b[0;34m=\u001b[0m \u001b[0mget_namespace\u001b[0m\u001b[0;34m(\u001b[0m\u001b[0mX\u001b[0m\u001b[0;34m)\u001b[0m\u001b[0;34m\u001b[0m\u001b[0;34m\u001b[0m\u001b[0m\n\u001b[1;32m    399\u001b[0m \u001b[0;34m\u001b[0m\u001b[0m\n",
            "\u001b[0;32m/usr/local/lib/python3.10/dist-packages/sklearn/utils/validation.py\u001b[0m in \u001b[0;36mcheck_is_fitted\u001b[0;34m(estimator, attributes, msg, all_or_any)\u001b[0m\n\u001b[1;32m   1388\u001b[0m \u001b[0;34m\u001b[0m\u001b[0m\n\u001b[1;32m   1389\u001b[0m     \u001b[0;32mif\u001b[0m \u001b[0;32mnot\u001b[0m \u001b[0mfitted\u001b[0m\u001b[0;34m:\u001b[0m\u001b[0;34m\u001b[0m\u001b[0;34m\u001b[0m\u001b[0m\n\u001b[0;32m-> 1390\u001b[0;31m         \u001b[0;32mraise\u001b[0m \u001b[0mNotFittedError\u001b[0m\u001b[0;34m(\u001b[0m\u001b[0mmsg\u001b[0m \u001b[0;34m%\u001b[0m \u001b[0;34m{\u001b[0m\u001b[0;34m\"name\"\u001b[0m\u001b[0;34m:\u001b[0m \u001b[0mtype\u001b[0m\u001b[0;34m(\u001b[0m\u001b[0mestimator\u001b[0m\u001b[0;34m)\u001b[0m\u001b[0;34m.\u001b[0m\u001b[0m__name__\u001b[0m\u001b[0;34m}\u001b[0m\u001b[0;34m)\u001b[0m\u001b[0;34m\u001b[0m\u001b[0;34m\u001b[0m\u001b[0m\n\u001b[0m\u001b[1;32m   1391\u001b[0m \u001b[0;34m\u001b[0m\u001b[0m\n\u001b[1;32m   1392\u001b[0m \u001b[0;34m\u001b[0m\u001b[0m\n",
            "\u001b[0;31mNotFittedError\u001b[0m: This LogisticRegression instance is not fitted yet. Call 'fit' with appropriate arguments before using this estimator."
          ]
        }
      ]
    },
    {
      "cell_type": "code",
      "source": [
        "accuracy_score(y_test,pred)"
      ],
      "metadata": {
        "colab": {
          "base_uri": "https://localhost:8080/",
          "height": 141
        },
        "id": "ofonaROndCN8",
        "outputId": "080910d0-7cb3-418b-ad5e-55387acbf03d"
      },
      "execution_count": null,
      "outputs": [
        {
          "output_type": "error",
          "ename": "NameError",
          "evalue": "name 'pred' is not defined",
          "traceback": [
            "\u001b[0;31m---------------------------------------------------------------------------\u001b[0m",
            "\u001b[0;31mNameError\u001b[0m                                 Traceback (most recent call last)",
            "\u001b[0;32m<ipython-input-48-19cc511cba74>\u001b[0m in \u001b[0;36m<cell line: 1>\u001b[0;34m()\u001b[0m\n\u001b[0;32m----> 1\u001b[0;31m \u001b[0maccuracy_score\u001b[0m\u001b[0;34m(\u001b[0m\u001b[0my_test\u001b[0m\u001b[0;34m,\u001b[0m\u001b[0mpred\u001b[0m\u001b[0;34m)\u001b[0m\u001b[0;34m\u001b[0m\u001b[0;34m\u001b[0m\u001b[0m\n\u001b[0m",
            "\u001b[0;31mNameError\u001b[0m: name 'pred' is not defined"
          ]
        }
      ]
    },
    {
      "cell_type": "code",
      "source": [
        "pred_prob = model.predict_proba(x_test)\n",
        "pred = pred_prob[:, 1] >= 0.3\n",
        "pred = pred.astype(np.int)\n",
        "\n",
        "f1_score(y_test, pred)"
      ],
      "metadata": {
        "colab": {
          "base_uri": "https://localhost:8080/",
          "height": 356
        },
        "id": "vdaCmjB1dHXl",
        "outputId": "c2c6b052-e5ce-40cf-8b9a-3027ab3c3c70"
      },
      "execution_count": null,
      "outputs": [
        {
          "output_type": "error",
          "ename": "NotFittedError",
          "evalue": "This LogisticRegression instance is not fitted yet. Call 'fit' with appropriate arguments before using this estimator.",
          "traceback": [
            "\u001b[0;31m---------------------------------------------------------------------------\u001b[0m",
            "\u001b[0;31mNotFittedError\u001b[0m                            Traceback (most recent call last)",
            "\u001b[0;32m<ipython-input-49-cc0d1a62d4a4>\u001b[0m in \u001b[0;36m<cell line: 1>\u001b[0;34m()\u001b[0m\n\u001b[0;32m----> 1\u001b[0;31m \u001b[0mpred_prob\u001b[0m \u001b[0;34m=\u001b[0m \u001b[0mmodel\u001b[0m\u001b[0;34m.\u001b[0m\u001b[0mpredict_proba\u001b[0m\u001b[0;34m(\u001b[0m\u001b[0mx_test\u001b[0m\u001b[0;34m)\u001b[0m\u001b[0;34m\u001b[0m\u001b[0;34m\u001b[0m\u001b[0m\n\u001b[0m\u001b[1;32m      2\u001b[0m \u001b[0mpred\u001b[0m \u001b[0;34m=\u001b[0m \u001b[0mpred_prob\u001b[0m\u001b[0;34m[\u001b[0m\u001b[0;34m:\u001b[0m\u001b[0;34m,\u001b[0m \u001b[0;36m1\u001b[0m\u001b[0;34m]\u001b[0m \u001b[0;34m>=\u001b[0m \u001b[0;36m0.3\u001b[0m\u001b[0;34m\u001b[0m\u001b[0;34m\u001b[0m\u001b[0m\n\u001b[1;32m      3\u001b[0m \u001b[0mpred\u001b[0m \u001b[0;34m=\u001b[0m \u001b[0mpred\u001b[0m\u001b[0;34m.\u001b[0m\u001b[0mastype\u001b[0m\u001b[0;34m(\u001b[0m\u001b[0mnp\u001b[0m\u001b[0;34m.\u001b[0m\u001b[0mint\u001b[0m\u001b[0;34m)\u001b[0m\u001b[0;34m\u001b[0m\u001b[0;34m\u001b[0m\u001b[0m\n\u001b[1;32m      4\u001b[0m \u001b[0;34m\u001b[0m\u001b[0m\n\u001b[1;32m      5\u001b[0m \u001b[0mf1_score\u001b[0m\u001b[0;34m(\u001b[0m\u001b[0my_test\u001b[0m\u001b[0;34m,\u001b[0m \u001b[0mpred\u001b[0m\u001b[0;34m)\u001b[0m\u001b[0;34m\u001b[0m\u001b[0;34m\u001b[0m\u001b[0m\n",
            "\u001b[0;32m/usr/local/lib/python3.10/dist-packages/sklearn/linear_model/_logistic.py\u001b[0m in \u001b[0;36mpredict_proba\u001b[0;34m(self, X)\u001b[0m\n\u001b[1;32m   1360\u001b[0m             \u001b[0mwhere\u001b[0m \u001b[0mclasses\u001b[0m \u001b[0mare\u001b[0m \u001b[0mordered\u001b[0m \u001b[0;32mas\u001b[0m \u001b[0mthey\u001b[0m \u001b[0mare\u001b[0m \u001b[0;32min\u001b[0m\u001b[0;31m \u001b[0m\u001b[0;31m`\u001b[0m\u001b[0;31m`\u001b[0m\u001b[0mself\u001b[0m\u001b[0;34m.\u001b[0m\u001b[0mclasses_\u001b[0m\u001b[0;31m`\u001b[0m\u001b[0;31m`\u001b[0m\u001b[0;34m.\u001b[0m\u001b[0;34m\u001b[0m\u001b[0;34m\u001b[0m\u001b[0m\n\u001b[1;32m   1361\u001b[0m         \"\"\"\n\u001b[0;32m-> 1362\u001b[0;31m         \u001b[0mcheck_is_fitted\u001b[0m\u001b[0;34m(\u001b[0m\u001b[0mself\u001b[0m\u001b[0;34m)\u001b[0m\u001b[0;34m\u001b[0m\u001b[0;34m\u001b[0m\u001b[0m\n\u001b[0m\u001b[1;32m   1363\u001b[0m \u001b[0;34m\u001b[0m\u001b[0m\n\u001b[1;32m   1364\u001b[0m         ovr = self.multi_class in [\"ovr\", \"warn\"] or (\n",
            "\u001b[0;32m/usr/local/lib/python3.10/dist-packages/sklearn/utils/validation.py\u001b[0m in \u001b[0;36mcheck_is_fitted\u001b[0;34m(estimator, attributes, msg, all_or_any)\u001b[0m\n\u001b[1;32m   1388\u001b[0m \u001b[0;34m\u001b[0m\u001b[0m\n\u001b[1;32m   1389\u001b[0m     \u001b[0;32mif\u001b[0m \u001b[0;32mnot\u001b[0m \u001b[0mfitted\u001b[0m\u001b[0;34m:\u001b[0m\u001b[0;34m\u001b[0m\u001b[0;34m\u001b[0m\u001b[0m\n\u001b[0;32m-> 1390\u001b[0;31m         \u001b[0;32mraise\u001b[0m \u001b[0mNotFittedError\u001b[0m\u001b[0;34m(\u001b[0m\u001b[0mmsg\u001b[0m \u001b[0;34m%\u001b[0m \u001b[0;34m{\u001b[0m\u001b[0;34m\"name\"\u001b[0m\u001b[0;34m:\u001b[0m \u001b[0mtype\u001b[0m\u001b[0;34m(\u001b[0m\u001b[0mestimator\u001b[0m\u001b[0;34m)\u001b[0m\u001b[0;34m.\u001b[0m\u001b[0m__name__\u001b[0m\u001b[0;34m}\u001b[0m\u001b[0;34m)\u001b[0m\u001b[0;34m\u001b[0m\u001b[0;34m\u001b[0m\u001b[0m\n\u001b[0m\u001b[1;32m   1391\u001b[0m \u001b[0;34m\u001b[0m\u001b[0m\n\u001b[1;32m   1392\u001b[0m \u001b[0;34m\u001b[0m\u001b[0m\n",
            "\u001b[0;31mNotFittedError\u001b[0m: This LogisticRegression instance is not fitted yet. Call 'fit' with appropriate arguments before using this estimator."
          ]
        }
      ]
    },
    {
      "cell_type": "code",
      "source": [],
      "metadata": {
        "id": "V0sy7-KveYc4"
      },
      "execution_count": null,
      "outputs": []
    }
  ]
}